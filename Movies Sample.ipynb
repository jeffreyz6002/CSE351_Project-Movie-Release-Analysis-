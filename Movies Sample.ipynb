{
 "cells": [
  {
   "cell_type": "code",
   "execution_count": 1,
   "id": "dc53fada",
   "metadata": {},
   "outputs": [],
   "source": [
    "from PIL import Image\n",
    "from statistics import *\n",
    "import pandas as pd\n",
    "import numpy as np\n",
    "import matplotlib.pyplot as plt"
   ]
  },
  {
   "cell_type": "code",
   "execution_count": 2,
   "id": "81baa902",
   "metadata": {},
   "outputs": [],
   "source": [
    "data = pd.read_csv(\"tmdb_5000_movies.csv\")"
   ]
  },
  {
   "cell_type": "code",
   "execution_count": 3,
   "id": "193376db",
   "metadata": {},
   "outputs": [],
   "source": [
    "production_companies = data['production_companies']"
   ]
  },
  {
   "cell_type": "code",
   "execution_count": 4,
   "id": "d24b6fef",
   "metadata": {},
   "outputs": [
    {
     "data": {
      "text/plain": [
       "0       [{\"name\": \"Ingenious Film Partners\", \"id\": 289...\n",
       "1       [{\"name\": \"Walt Disney Pictures\", \"id\": 2}, {\"...\n",
       "2       [{\"name\": \"Columbia Pictures\", \"id\": 5}, {\"nam...\n",
       "3       [{\"name\": \"Legendary Pictures\", \"id\": 923}, {\"...\n",
       "4             [{\"name\": \"Walt Disney Pictures\", \"id\": 2}]\n",
       "                              ...                        \n",
       "4798             [{\"name\": \"Columbia Pictures\", \"id\": 5}]\n",
       "4799                                                   []\n",
       "4800    [{\"name\": \"Front Street Pictures\", \"id\": 3958}...\n",
       "4801                                                   []\n",
       "4802    [{\"name\": \"rusty bear entertainment\", \"id\": 87...\n",
       "Name: production_companies, Length: 4803, dtype: object"
      ]
     },
     "execution_count": 4,
     "metadata": {},
     "output_type": "execute_result"
    }
   ],
   "source": [
    "production_companies"
   ]
  },
  {
   "cell_type": "code",
   "execution_count": 38,
   "id": "6a187fd7",
   "metadata": {},
   "outputs": [
    {
     "data": {
      "text/plain": [
       "'[{\"name\": \"Ingenious Film Partners\", \"id\": 289}, {\"name\": \"Twentieth Century Fox Film Corporation\", \"id\": 306}, {\"name\": \"Dune Entertainment\", \"id\": 444}, {\"name\": \"Lightstorm Entertainment\", \"id\": 574}]'"
      ]
     },
     "execution_count": 38,
     "metadata": {},
     "output_type": "execute_result"
    }
   ],
   "source": [
    "x = production_companies[0]\n",
    "x"
   ]
  },
  {
   "cell_type": "code",
   "execution_count": 43,
   "id": "c737c9ff",
   "metadata": {},
   "outputs": [],
   "source": [
    "import json"
   ]
  },
  {
   "cell_type": "code",
   "execution_count": 44,
   "id": "5ce352b3",
   "metadata": {},
   "outputs": [],
   "source": [
    "list = json.loads(x)"
   ]
  },
  {
   "cell_type": "code",
   "execution_count": 45,
   "id": "44e8d26d",
   "metadata": {},
   "outputs": [
    {
     "data": {
      "text/plain": [
       "[{'name': 'Ingenious Film Partners', 'id': 289},\n",
       " {'name': 'Twentieth Century Fox Film Corporation', 'id': 306},\n",
       " {'name': 'Dune Entertainment', 'id': 444},\n",
       " {'name': 'Lightstorm Entertainment', 'id': 574}]"
      ]
     },
     "execution_count": 45,
     "metadata": {},
     "output_type": "execute_result"
    }
   ],
   "source": [
    "list"
   ]
  },
  {
   "cell_type": "code",
   "execution_count": 46,
   "id": "4c8b8ca8",
   "metadata": {},
   "outputs": [
    {
     "name": "stdout",
     "output_type": "stream",
     "text": [
      "Ingenious Film Partners\n",
      "Twentieth Century Fox Film Corporation\n",
      "Dune Entertainment\n",
      "Lightstorm Entertainment\n"
     ]
    }
   ],
   "source": [
    "for i in list:\n",
    "    print(i['name'])"
   ]
  },
  {
   "cell_type": "code",
   "execution_count": null,
   "id": "bb549b63",
   "metadata": {},
   "outputs": [],
   "source": []
  }
 ],
 "metadata": {
  "kernelspec": {
   "display_name": "Python 3",
   "language": "python",
   "name": "python3"
  },
  "language_info": {
   "codemirror_mode": {
    "name": "ipython",
    "version": 3
   },
   "file_extension": ".py",
   "mimetype": "text/x-python",
   "name": "python",
   "nbconvert_exporter": "python",
   "pygments_lexer": "ipython3",
   "version": "3.8.8"
  }
 },
 "nbformat": 4,
 "nbformat_minor": 5
}
