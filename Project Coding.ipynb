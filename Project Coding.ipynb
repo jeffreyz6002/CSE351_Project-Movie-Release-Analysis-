{
 "cells": [
  {
   "cell_type": "markdown",
   "id": "48b75b56",
   "metadata": {},
   "source": [
    "#### Group Member: Jeffery Zhang, Oliver Liu, Zhe Zhou"
   ]
  },
  {
   "cell_type": "code",
   "execution_count": 1,
   "id": "e07e69bf",
   "metadata": {},
   "outputs": [],
   "source": [
    "import pandas as pd\n",
    "import numpy as np\n",
    "import matplotlib as plt \n",
    "import seaborn as sns"
   ]
  },
  {
   "cell_type": "markdown",
   "id": "a4473370",
   "metadata": {},
   "source": [
    "* Some of the columns contain lists and dictionaries. Extract information you need and reformat them."
   ]
  },
  {
   "cell_type": "code",
   "execution_count": 2,
   "id": "52ed64c7",
   "metadata": {},
   "outputs": [],
   "source": [
    "raw_data_movies = pd.read_csv(\"tmdb_5000_movies.csv\")"
   ]
  },
  {
   "cell_type": "code",
   "execution_count": 3,
   "id": "c27d0ac5",
   "metadata": {},
   "outputs": [],
   "source": [
    "raw_data_movies[\"genres\"] = raw_data_movies[\"genres\"].apply(lambda x : [i[\"name\"] for i in eval(x)])\n",
    "raw_data_movies[\"keywords\"] = raw_data_movies[\"keywords\"].apply(lambda x : [i[\"name\"] for i in eval(x)])\n",
    "raw_data_movies[\"production_companies\"] = raw_data_movies[\"production_companies\"].apply(lambda x : [i[\"name\"] for i in eval(x)])\n",
    "raw_data_movies[\"production_countries\"] = raw_data_movies[\"production_countries\"].apply(lambda x : [i[\"name\"] for i in eval(x)])\n",
    "raw_data_movies[\"spoken_languages\"] = raw_data_movies[\"spoken_languages\"].apply(lambda x : [i[\"name\"] for i in eval(x)])"
   ]
  },
  {
   "cell_type": "code",
   "execution_count": 4,
   "id": "78845f5f",
   "metadata": {},
   "outputs": [],
   "source": [
    "raw_data_credits = pd.read_csv(\"tmdb_5000_credits.csv\")"
   ]
  },
  {
   "cell_type": "code",
   "execution_count": 5,
   "id": "9d8b99c6",
   "metadata": {},
   "outputs": [],
   "source": [
    "raw_data_credits[\"cast\"] = raw_data_credits[\"cast\"].apply(lambda x : [i[\"name\"] for i in eval(x)])\n",
    "raw_data_credits[\"crew\"] = raw_data_credits[\"crew\"].apply(lambda x : [i[\"job\"] + \" : \" + i[\"name\"] for i in eval(x)])"
   ]
  },
  {
   "cell_type": "code",
   "execution_count": 6,
   "id": "6340a719",
   "metadata": {},
   "outputs": [],
   "source": [
    "raw_data = pd.merge(raw_data_movies, raw_data_credits.drop(\"title\", 1), left_on = \"id\", right_on = \"movie_id\").drop(\"movie_id\", 1)"
   ]
  },
  {
   "cell_type": "markdown",
   "id": "03557873",
   "metadata": {},
   "source": [
    "* Clean the dataset, remove the outliers, before any data analysis. Explain what you did."
   ]
  },
  {
   "cell_type": "code",
   "execution_count": 7,
   "id": "1ff8d392",
   "metadata": {},
   "outputs": [],
   "source": [
    "data = raw_data[(raw_data[\"budget\"] > 0) &\n",
    "                (raw_data[\"original_title\"] is not np.nan) &\n",
    "                (raw_data[\"popularity\"] > 0) & \n",
    "                (raw_data[\"production_companies\"].apply(len) != 0) &\n",
    "                (raw_data[\"production_countries\"].apply(len) != 0) & \n",
    "                (raw_data[\"release_date\"] is not np.nan) &\n",
    "                (raw_data[\"revenue\"] > 0) &\n",
    "                (raw_data[\"runtime\"] > 0) &\n",
    "                (raw_data[\"cast\"].apply(len) != 0) & \n",
    "                (raw_data[\"crew\"].apply(len) != 0)]"
   ]
  },
  {
   "cell_type": "markdown",
   "id": "98ffeffb",
   "metadata": {},
   "source": [
    "In the process of cleaning the data, the outliers that are caused by artifacts have to be removed. The purpose of this project is to build the model of predicting the revenue of movies, so the values of budget and revenue are not supposed to be zero. Also, the runtime of the movies cannot be zero because it does not make sense. In addition, the columns, \"original_title\", \"cast\", and \"crew\", are necessary since they demonstrate the convincingness of the data. Furthermore, in the other columns, \"production_companies\" and \"production_countries\", all these data are required in the model that we are going to build. And now, we are able to begin our data analysis."
   ]
  }
 ],
 "metadata": {
  "kernelspec": {
   "display_name": "Python 3",
   "language": "python",
   "name": "python3"
  },
  "language_info": {
   "codemirror_mode": {
    "name": "ipython",
    "version": 3
   },
   "file_extension": ".py",
   "mimetype": "text/x-python",
   "name": "python",
   "nbconvert_exporter": "python",
   "pygments_lexer": "ipython3",
   "version": "3.8.8"
  }
 },
 "nbformat": 4,
 "nbformat_minor": 5
}
